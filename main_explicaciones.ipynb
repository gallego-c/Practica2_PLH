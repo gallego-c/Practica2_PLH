{
 "cells": [
  {
   "cell_type": "markdown",
   "id": "b6e89282",
   "metadata": {},
   "source": [
    "# Sentiment Analysis - Movie Reviews Corpus\n",
    "## Part 1"
   ]
  },
  {
   "cell_type": "markdown",
   "id": "c2abe428",
   "metadata": {},
   "source": [
    "Despues: GRid i justificaciones"
   ]
  },
  {
   "cell_type": "code",
   "execution_count": 5,
   "id": "8c6e5d5b",
   "metadata": {},
   "outputs": [],
   "source": [
    "# Llibreries\n",
    "# Libraries\n",
    "\n",
    "import nltk\n",
    "import string\n",
    "import numpy as np\n",
    "import pandas as pd\n",
    "import matplotlib.pyplot as plt\n",
    "import seaborn as sns\n",
    "\n",
    "from nltk.corpus import movie_reviews, stopwords\n",
    "from sklearn.feature_extraction.text import CountVectorizer\n",
    "from sklearn.model_selection import train_test_split\n",
    "from sklearn.linear_model import LogisticRegression\n",
    "from sklearn.naive_bayes import MultinomialNB\n",
    "from sklearn.svm import SVC\n",
    "from sklearn.ensemble import RandomForestClassifier\n",
    "from sklearn.metrics import accuracy_score, confusion_matrix"
   ]
  },
  {
   "cell_type": "markdown",
   "id": "148adbea",
   "metadata": {},
   "source": [
    "## Pre-processament / Pre-processing"
   ]
  },
  {
   "cell_type": "code",
   "execution_count": null,
   "id": "85452a8e",
   "metadata": {},
   "outputs": [
    {
     "name": "stderr",
     "output_type": "stream",
     "text": [
      "[nltk_data] Downloading package movie_reviews to\n",
      "[nltk_data]     C:\\Users\\Claudia\\AppData\\Roaming\\nltk_data...\n",
      "[nltk_data]   Package movie_reviews is already up-to-date!\n",
      "[nltk_data] Downloading package stopwords to\n",
      "[nltk_data]     C:\\Users\\Claudia\\AppData\\Roaming\\nltk_data...\n",
      "[nltk_data]   Package stopwords is already up-to-date!\n"
     ]
    }
   ],
   "source": [
    "# Carregar les dades\n",
    "# Load the data\n",
    "\n",
    "nltk.download('movie_reviews')\n",
    "nltk.download('stopwords')\n",
    "\n",
    "# Carregar el corpus de Movie Reviews\n",
    "# Load the Movie Reviews corpus\n",
    "# Cargar las reseñas y sus etiquetas (pos o neg)\n",
    "documents = []\n",
    "\n",
    "# Iterar sobre las categorías (positivas y negativas)\n",
    "for category in movie_reviews.categories():\n",
    "    # Iterar sobre los archivos correspondientes a cada categoría\n",
    "    for fileid in movie_reviews.fileids(category):\n",
    "        # Obtener las palabras del archivo y asociarlas con la categoría\n",
    "        words = movie_reviews.words(fileid)\n",
    "        documents.append((list(words), category)) # Obtenemos tuplas\n",
    "\n",
    "\n",
    "# Transformar a DataFrame\n",
    "# Transform to DataFrame\n",
    "df = pd.DataFrame(documents, columns=['review', 'sentiment']) # Creamos un DataFrame donde cada fila corresponde a una tupla"
   ]
  },
  {
   "cell_type": "code",
   "execution_count": 3,
   "id": "2c82af34",
   "metadata": {},
   "outputs": [],
   "source": [
    "# Preprocessament del text\n",
    "# Text preprocessing\n",
    "\n",
    "# Inicialitzar stopwords i puntuació\n",
    "# Initialize stopwords and punctuation\n",
    "stop_words = set(stopwords.words('english'))\n",
    "translator = str.maketrans('', '', string.punctuation)  #??????\n",
    "\n",
    "# Funció per preprocessar el text\n",
    "# Function to preprocess the text\n",
    "def preprocess_text(text):\n",
    "    text = \" \".join(text).lower()  # Unir palabras y convertir a minúsculas\n",
    "    text = text.translate(translator)  # Eliminar puntuación\n",
    "    text = \" \".join([word for word in text.split() if word not in stop_words])  # Eliminar stopwords\n",
    "    return text\n",
    "\n",
    "# Aplicar preprocesament al text\n",
    "# Apply text preprocessing\n",
    "df['review'] = df['review'].apply(preprocess_text)\n",
    "\n",
    "# Vectorizació amb CountVectorizer\n",
    "# Vectorization with CountVectorizer\n",
    "vectorizer = CountVectorizer()\n",
    "X = vectorizer.fit_transform(df['review'])\n",
    "y = np.array([1 if sentiment == 'pos' else 0 for sentiment in df['sentiment']])\n",
    "\n",
    "\n"
   ]
  },
  {
   "cell_type": "code",
   "execution_count": 4,
   "id": "8bd154ab",
   "metadata": {},
   "outputs": [
    {
     "ename": "SyntaxError",
     "evalue": "invalid syntax. Perhaps you forgot a comma? (2818560116.py, line 9)",
     "output_type": "error",
     "traceback": [
      "  \u001b[36mCell\u001b[39m\u001b[36m \u001b[39m\u001b[32mIn[4]\u001b[39m\u001b[32m, line 9\u001b[39m\n\u001b[31m    \u001b[39m\u001b[31m\"Random Forest\": RandomForestClassifier(n_estimators=100, random_state=42)\u001b[39m\n                     ^\n\u001b[31mSyntaxError\u001b[39m\u001b[31m:\u001b[39m invalid syntax. Perhaps you forgot a comma?\n"
     ]
    }
   ],
   "source": [
    "# División del conjunto de datos en entrenamiento y prueba\n",
    "X_train, X_test, y_train, y_test = train_test_split(X, y, test_size=0.2, random_state=42, stratify=y)\n",
    "\n",
    "# Modelos supervisados\n",
    "models = {\n",
    "    \"Logistic Regression\": LogisticRegression(max_iter=1000),\n",
    "    \"Naïve Bayes\": MultinomialNB(),\n",
    "    \"SVM\": SVC(kernel='linear'),\n",
    "    \"Random Forest\": RandomForestClassifier(n_estimators=100, random_state=42)\n",
    "    \"Gradient Boosting\": GradientBoostingClassifier(n_estimators=100, learning_rate=1.0, max_depth=1, random_state=42)\n",
    "}\n",
    "\n",
    "# Entrenamiento y evaluación de modelos\n",
    "results = {}\n",
    "for name, model in models.items():\n",
    "    model.fit(X_train, y_train)\n",
    "    y_pred = model.predict(X_test)\n",
    "    accuracy = accuracy_score(y_test, y_pred)\n",
    "    results[name] = accuracy\n",
    "\n",
    "    # Matriz de confusión\n",
    "    cm = confusion_matrix(y_test, y_pred)\n",
    "    plt.figure(figsize=(5, 4))\n",
    "    sns.heatmap(cm, annot=True, fmt='d', cmap='Blues', xticklabels=['Negative', 'Positive'], yticklabels=['Negative', 'Positive'])\n",
    "    plt.xlabel('Predicted')\n",
    "    plt.ylabel('Actual')\n",
    "    plt.title(f'Confusion Matrix - {name}')\n",
    "    plt.show()\n",
    "\n",
    "# Comparación de precisiones\n",
    "results_df = pd.DataFrame(list(results.items()), columns=['Model', 'Accuracy'])\n",
    "results_df"
   ]
  },
  {
   "cell_type": "markdown",
   "id": "5579e319",
   "metadata": {},
   "source": [
    "## Part 2:"
   ]
  },
  {
   "cell_type": "code",
   "execution_count": null,
   "id": "53269f50",
   "metadata": {},
   "outputs": [],
   "source": []
  }
 ],
 "metadata": {
  "kernelspec": {
   "display_name": "venv",
   "language": "python",
   "name": "python3"
  },
  "language_info": {
   "codemirror_mode": {
    "name": "ipython",
    "version": 3
   },
   "file_extension": ".py",
   "mimetype": "text/x-python",
   "name": "python",
   "nbconvert_exporter": "python",
   "pygments_lexer": "ipython3",
   "version": "3.13.2"
  }
 },
 "nbformat": 4,
 "nbformat_minor": 5
}
